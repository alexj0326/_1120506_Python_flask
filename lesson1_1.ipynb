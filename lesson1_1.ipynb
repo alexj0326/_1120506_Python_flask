{
 "cells": [
  {
   "cell_type": "code",
   "execution_count": 1,
   "metadata": {},
   "outputs": [
    {
     "name": "stdout",
     "output_type": "stream",
     "text": [
      "Hello ! Python\n"
     ]
    }
   ],
   "source": [
    "print (\"Hello ! Python\")"
   ]
  },
  {
   "cell_type": "code",
   "execution_count": 2,
   "metadata": {},
   "outputs": [
    {
     "name": "stdout",
     "output_type": "stream",
     "text": [
      "123 我是INT\n",
      "456.123 我是FLOAT\n",
      "字串 我是str\n",
      "True 我是bool\n"
     ]
    }
   ],
   "source": [
    "print(123, \"我是INT\")\n",
    "print(456.123, \"我是FLOAT\")\n",
    "print(\"字串\", \"我是str\")\n",
    "print(True, \"我是bool\")"
   ]
  }
 ],
 "metadata": {
  "kernelspec": {
   "display_name": "Python 3",
   "language": "python",
   "name": "python3"
  },
  "language_info": {
   "codemirror_mode": {
    "name": "ipython",
    "version": 3
   },
   "file_extension": ".py",
   "mimetype": "text/x-python",
   "name": "python",
   "nbconvert_exporter": "python",
   "pygments_lexer": "ipython3",
   "version": "3.10.4"
  },
  "orig_nbformat": 4
 },
 "nbformat": 4,
 "nbformat_minor": 2
}
