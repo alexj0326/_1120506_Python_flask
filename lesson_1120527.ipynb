{
 "cells": [
  {
   "cell_type": "code",
   "execution_count": null,
   "metadata": {},
   "outputs": [],
   "source": [
    "import requests\n",
    "\n",
    "url = 'https://seat.tpml.edu.tw/sm/service/getAllArea'\n",
    "response = requests.request('GET',url)\n",
    "\n",
    "\n",
    "if response.status_code == 200:\n",
    "    print(\"連線成功\")\n",
    "    print(response.text)\n",
    "else:\n",
    "    print(f\"連線失敗:{response.status_code}\")"
   ]
  },
  {
   "cell_type": "code",
   "execution_count": null,
   "metadata": {},
   "outputs": [],
   "source": [
    "url = 'https://tcgbusfs.blob.core.windows.net/dotapp/youbike/v2/youbike_immediate.json'\n",
    "\n",
    "response = requests.request('GET', url)\n",
    "if response.status_code == 200:\n",
    "    print(\"連線成功\")\n",
    "    all_text = response.text\n",
    "    print(type(all_text))    \n",
    "\n",
    "else:\n",
    "    print(f\"連線失敗:{response.status_code}\")\n",
    "\n"
   ]
  },
  {
   "cell_type": "code",
   "execution_count": 9,
   "metadata": {},
   "outputs": [
    {
     "name": "stdout",
     "output_type": "stream",
     "text": [
      "連線成功\n",
      "<class 'list'>\n"
     ]
    }
   ],
   "source": [
    "url = 'https://tcgbusfs.blob.core.windows.net/dotapp/youbike/v2/youbike_immediate.json'\n",
    "\n",
    "response = requests.request('GET', url)\n",
    "if response.status_code == 200:\n",
    "    print(\"連線成功\")\n",
    "    all_data = response.json()\n",
    "    print(type(all_data))    \n",
    "\n",
    "else:\n",
    "    print(f\"連線失敗:{response.status_code}\")\n"
   ]
  },
  {
   "cell_type": "code",
   "execution_count": null,
   "metadata": {},
   "outputs": [],
   "source": [
    "import pandas as pd\n",
    "\n",
    "dataFrame = pd.DataFrame(data=all_data)\n",
    "dataFrame.info()"
   ]
  },
  {
   "cell_type": "code",
   "execution_count": null,
   "metadata": {},
   "outputs": [],
   "source": [
    "import pandas as pd\n",
    "\n",
    "dataFrame = pd.DataFrame(data=all_data, columns=['sna', 'tot', 'sbi','sarea','mday','ar', 'bemp', 'act'])\n",
    "dataFrame"
   ]
  },
  {
   "cell_type": "code",
   "execution_count": null,
   "metadata": {},
   "outputs": [],
   "source": [
    "#選取欄位\n",
    "dataFrame[['sna', 'tot', 'sbi']]"
   ]
  },
  {
   "cell_type": "code",
   "execution_count": 24,
   "metadata": {},
   "outputs": [
    {
     "data": {
      "text/html": [
       "<div>\n",
       "<style scoped>\n",
       "    .dataframe tbody tr th:only-of-type {\n",
       "        vertical-align: middle;\n",
       "    }\n",
       "\n",
       "    .dataframe tbody tr th {\n",
       "        vertical-align: top;\n",
       "    }\n",
       "\n",
       "    .dataframe thead th {\n",
       "        text-align: right;\n",
       "    }\n",
       "</style>\n",
       "<table border=\"1\" class=\"dataframe\">\n",
       "  <thead>\n",
       "    <tr style=\"text-align: right;\">\n",
       "      <th></th>\n",
       "      <th>sna</th>\n",
       "      <th>tot</th>\n",
       "      <th>sbi</th>\n",
       "      <th>sarea</th>\n",
       "      <th>mday</th>\n",
       "      <th>ar</th>\n",
       "      <th>bemp</th>\n",
       "      <th>act</th>\n",
       "    </tr>\n",
       "  </thead>\n",
       "  <tbody>\n",
       "    <tr>\n",
       "      <th>67</th>\n",
       "      <td>YouBike2.0_敦化南路二段293巷口南側</td>\n",
       "      <td>14</td>\n",
       "      <td>1</td>\n",
       "      <td>大安區</td>\n",
       "      <td>2023-05-27 11:01:16</td>\n",
       "      <td>敦化南路二段293巷口南側</td>\n",
       "      <td>13</td>\n",
       "      <td>1</td>\n",
       "    </tr>\n",
       "    <tr>\n",
       "      <th>68</th>\n",
       "      <td>YouBike2.0_敦化基隆路口</td>\n",
       "      <td>29</td>\n",
       "      <td>1</td>\n",
       "      <td>大安區</td>\n",
       "      <td>2023-05-27 11:14:14</td>\n",
       "      <td>敦化南路二段218號</td>\n",
       "      <td>26</td>\n",
       "      <td>1</td>\n",
       "    </tr>\n",
       "    <tr>\n",
       "      <th>69</th>\n",
       "      <td>YouBike2.0_安和路二段181巷口</td>\n",
       "      <td>17</td>\n",
       "      <td>0</td>\n",
       "      <td>大安區</td>\n",
       "      <td>2023-05-27 11:01:04</td>\n",
       "      <td>安和路二段185號</td>\n",
       "      <td>17</td>\n",
       "      <td>1</td>\n",
       "    </tr>\n",
       "    <tr>\n",
       "      <th>70</th>\n",
       "      <td>YouBike2.0_臨江街夜市(通化街101巷口)</td>\n",
       "      <td>30</td>\n",
       "      <td>5</td>\n",
       "      <td>大安區</td>\n",
       "      <td>2023-05-27 11:11:16</td>\n",
       "      <td>通化街111號</td>\n",
       "      <td>23</td>\n",
       "      <td>1</td>\n",
       "    </tr>\n",
       "    <tr>\n",
       "      <th>71</th>\n",
       "      <td>YouBike2.0_臨江街夜市(基隆路)</td>\n",
       "      <td>17</td>\n",
       "      <td>0</td>\n",
       "      <td>大安區</td>\n",
       "      <td>2023-05-27 11:11:04</td>\n",
       "      <td>基隆路二段108號</td>\n",
       "      <td>14</td>\n",
       "      <td>1</td>\n",
       "    </tr>\n",
       "  </tbody>\n",
       "</table>\n",
       "</div>"
      ],
      "text/plain": [
       "                           sna  tot  sbi sarea                 mday   \n",
       "67    YouBike2.0_敦化南路二段293巷口南側   14    1   大安區  2023-05-27 11:01:16  \\\n",
       "68           YouBike2.0_敦化基隆路口   29    1   大安區  2023-05-27 11:14:14   \n",
       "69       YouBike2.0_安和路二段181巷口   17    0   大安區  2023-05-27 11:01:04   \n",
       "70  YouBike2.0_臨江街夜市(通化街101巷口)   30    5   大安區  2023-05-27 11:11:16   \n",
       "71       YouBike2.0_臨江街夜市(基隆路)   17    0   大安區  2023-05-27 11:11:04   \n",
       "\n",
       "               ar  bemp act  \n",
       "67  敦化南路二段293巷口南側    13   1  \n",
       "68     敦化南路二段218號    26   1  \n",
       "69      安和路二段185號    17   1  \n",
       "70        通化街111號    23   1  \n",
       "71      基隆路二段108號    14   1  "
      ]
     },
     "execution_count": 24,
     "metadata": {},
     "output_type": "execute_result"
    }
   ],
   "source": [
    "#選取列(slice)\n",
    "dataFrame[67:72]"
   ]
  }
 ],
 "metadata": {
  "kernelspec": {
   "display_name": "Python 3",
   "language": "python",
   "name": "python3"
  },
  "language_info": {
   "codemirror_mode": {
    "name": "ipython",
    "version": 3
   },
   "file_extension": ".py",
   "mimetype": "text/x-python",
   "name": "python",
   "nbconvert_exporter": "python",
   "pygments_lexer": "ipython3",
   "version": "3.9.2"
  },
  "orig_nbformat": 4
 },
 "nbformat": 4,
 "nbformat_minor": 2
}
