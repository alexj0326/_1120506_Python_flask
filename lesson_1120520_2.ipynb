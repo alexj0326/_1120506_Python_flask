{
 "cells": [
  {
   "cell_type": "code",
   "execution_count": null,
   "metadata": {},
   "outputs": [],
   "source": [
    "import requests\n",
    "\n",
    "url = \"https://raw.githubusercontent.com/roberthsu2003/PythonForDataAnalysis/master/%E6%AA%94%E6%A1%88%E5%AD%98%E5%8F%96/%E5%80%8B%E8%82%A1%E6%97%A5%E6%88%90%E4%BA%A4%E8%B3%87%E8%A8%8A.csv\"\n",
    "response = requests.get(url)\n",
    "\n",
    "if response.ok:\n",
    "    print(\"下載成功\")\n",
    "    print(\"下載內容如下:::::::\")\n",
    "    print(response.text)\n",
    "else:\n",
    "    print(\"下載失敗\")"
   ]
  },
  {
   "cell_type": "code",
   "execution_count": 5,
   "metadata": {},
   "outputs": [
    {
     "name": "stdout",
     "output_type": "stream",
     "text": [
      "下載成功\n",
      "下載內容如下:::::::\n"
     ]
    }
   ],
   "source": [
    "import requests\n",
    "\n",
    "url = \"https://raw.githubusercontent.com/roberthsu2003/PythonForDataAnalysis/master/%E6%AA%94%E6%A1%88%E5%AD%98%E5%8F%96/%E5%80%8B%E8%82%A1%E6%97%A5%E6%88%90%E4%BA%A4%E8%B3%87%E8%A8%8A.csv\"\n",
    "response = requests.get(url)\n",
    "\n",
    "if response.ok:\n",
    "    print(\"下載成功\")\n",
    "    print(\"下載內容如下:::::::\")\n",
    "    content = response.text\n",
    "else:\n",
    "    print(\"下載失敗\")\n",
    "\n",
    "#存檔\n",
    "file = open('個股日成交資訊.csv',mode='w',encoding='utf-8',newline='')\n",
    "file.write(content)\n",
    "file.close()"
   ]
  },
  {
   "cell_type": "code",
   "execution_count": null,
   "metadata": {},
   "outputs": [],
   "source": [
    "#處理csv檔\n",
    "\n",
    "import csv\n",
    "\n",
    "with open('個股日成交資訊.csv',encoding='utf-8',newline='') as file:\n",
    "    csv_reader = csv.DictReader(file)\n",
    "    #print(type(csv_reader))\n",
    "    csv_list = list(csv_reader)\n",
    "\n",
    "\n",
    "for item_dict in csv_list:\n",
    "    #if item_dict['證券名稱'] == \"富邦科技\":\n",
    "    #    print(item_dict)\n",
    "    \n",
    "    if \"富邦\" in item_dict['證券名稱']:\n",
    "        print(item_dict)\n",
    "\n"
   ]
  },
  {
   "cell_type": "code",
   "execution_count": null,
   "metadata": {},
   "outputs": [],
   "source": [
    "import requests\n",
    "url = 'https://data.ntpc.gov.tw/api/datasets/71cd1490-a2df-4198-bef1-318479775e8a/csv?size=1000'\n",
    "\n",
    "#下載資料\n",
    "response = requests.get(url)\n",
    "if response.ok:\n",
    "    print(response.text)"
   ]
  },
  {
   "cell_type": "code",
   "execution_count": null,
   "metadata": {},
   "outputs": [],
   "source": [
    "from io import StringIO\n",
    "import csv\n",
    "file = StringIO(response.text,newline='')\n",
    "csv_reader = csv.DictReader(file)\n",
    "csv_list = list(csv_reader)\n",
    "for item_dict in csv_list:\n",
    "    print(item_dict)"
   ]
  },
  {
   "cell_type": "code",
   "execution_count": null,
   "metadata": {},
   "outputs": [],
   "source": [
    "import pandas as pd\n",
    "df = pd.DataFrame(data=csv_list)\n",
    "df1 = df.drop(columns=['sareaen','snaen','aren','lat','lng'])\n",
    "df1"
   ]
  },
  {
   "cell_type": "code",
   "execution_count": null,
   "metadata": {},
   "outputs": [],
   "source": [
    "import pandas as pd\n",
    "df = pd.DataFrame(data=csv_list)\n",
    "df1 = df.drop(columns=['sareaen','snaen','aren','lat','lng'])\n",
    "df1"
   ]
  },
  {
   "cell_type": "code",
   "execution_count": null,
   "metadata": {},
   "outputs": [],
   "source": [
    "import pandas as pd\n",
    "df = pd.DataFrame(data=csv_list)\n",
    "df1 = df.drop(columns=['sareaen','snaen','aren','lat','lng'])\n",
    "df2 = df1.rename(columns={'\\ufeff\"sno\"':\"編號\",\n",
    "                    'sna':'名稱',\n",
    "                    'tot':'車輛數',\n",
    "                    'sbi':'可借',\n",
    "                    'sarea':'行政區',\n",
    "                    'mday':'日期',\n",
    "                    'ar':'地址',\n",
    "                    'bemp':'可還',\n",
    "                    'act':'狀態'})\n",
    "\n",
    "df2"
   ]
  }
 ],
 "metadata": {
  "kernelspec": {
   "display_name": "Python 3",
   "language": "python",
   "name": "python3"
  },
  "language_info": {
   "codemirror_mode": {
    "name": "ipython",
    "version": 3
   },
   "file_extension": ".py",
   "mimetype": "text/x-python",
   "name": "python",
   "nbconvert_exporter": "python",
   "pygments_lexer": "ipython3",
   "version": "3.9.16"
  },
  "orig_nbformat": 4
 },
 "nbformat": 4,
 "nbformat_minor": 2
}
